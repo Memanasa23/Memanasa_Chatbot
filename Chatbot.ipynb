{
 "cells": [
  {
   "cell_type": "code",
   "execution_count": 5,
   "id": "69b0230f",
   "metadata": {},
   "outputs": [
    {
     "name": "stdout",
     "output_type": "stream",
     "text": [
      "Requirement already satisfied: flask in c:\\users\\meman\\anaconda3\\lib\\site-packages (3.0.3)\n",
      "Requirement already satisfied: flask-cors in c:\\users\\meman\\anaconda3\\lib\\site-packages (6.0.1)\n",
      "Requirement already satisfied: Werkzeug>=3.0.0 in c:\\users\\meman\\anaconda3\\lib\\site-packages (from flask) (3.0.3)\n",
      "Requirement already satisfied: Jinja2>=3.1.2 in c:\\users\\meman\\anaconda3\\lib\\site-packages (from flask) (3.1.4)\n",
      "Requirement already satisfied: itsdangerous>=2.1.2 in c:\\users\\meman\\anaconda3\\lib\\site-packages (from flask) (2.2.0)\n",
      "Requirement already satisfied: click>=8.1.3 in c:\\users\\meman\\anaconda3\\lib\\site-packages (from flask) (8.1.7)\n",
      "Requirement already satisfied: blinker>=1.6.2 in c:\\users\\meman\\anaconda3\\lib\\site-packages (from flask) (1.6.2)\n",
      "Requirement already satisfied: colorama in c:\\users\\meman\\anaconda3\\lib\\site-packages (from click>=8.1.3->flask) (0.4.6)\n",
      "Requirement already satisfied: MarkupSafe>=2.0 in c:\\users\\meman\\anaconda3\\lib\\site-packages (from Jinja2>=3.1.2->flask) (2.1.3)\n"
     ]
    }
   ],
   "source": [
    "!pip install flask flask-cors"
   ]
  },
  {
   "cell_type": "code",
   "execution_count": null,
   "id": "ab9d66ad",
   "metadata": {},
   "outputs": [
    {
     "name": "stdout",
     "output_type": "stream",
     "text": [
      " * Serving Flask app '__main__'\n",
      " * Debug mode: on\n"
     ]
    },
    {
     "name": "stderr",
     "output_type": "stream",
     "text": [
      "WARNING: This is a development server. Do not use it in a production deployment. Use a production WSGI server instead.\n",
      " * Running on http://127.0.0.1:5000\n",
      "Press CTRL+C to quit\n",
      "127.0.0.1 - - [24/Aug/2025 20:04:20] \"OPTIONS /chat HTTP/1.1\" 200 -\n",
      "127.0.0.1 - - [24/Aug/2025 20:04:20] \"POST /chat HTTP/1.1\" 200 -\n",
      "127.0.0.1 - - [24/Aug/2025 20:04:23] \"POST /chat HTTP/1.1\" 200 -\n",
      "127.0.0.1 - - [24/Aug/2025 20:04:25] \"OPTIONS /chat HTTP/1.1\" 200 -\n",
      "127.0.0.1 - - [24/Aug/2025 20:04:25] \"POST /chat HTTP/1.1\" 200 -\n",
      "127.0.0.1 - - [24/Aug/2025 20:20:02] \"GET /chat HTTP/1.1\" 405 -\n",
      "127.0.0.1 - - [24/Aug/2025 20:20:04] \"GET /favicon.ico HTTP/1.1\" 404 -\n"
     ]
    }
   ],
   "source": [
    "from flask import Flask, request, jsonify\n",
    "from flask_cors import CORS\n",
    "\n",
    "app = Flask(__name__)\n",
    "CORS(app)  # Allow frontend access\n",
    "\n",
    "# Predefined responses for your website\n",
    "responses = {\n",
    "    \"timings\": \"We are open daily from 11:00 AM to 11:00 PM. Weekend buffet is available from 12:00 PM to 3:30 PM.\",\n",
    "    \"location\": \"We have multiple locations in Hyderabad:\\n- Ameerpet: 123 Main Street\\n- Madhapur: 456 Tech Boulevard\\n- Banjara Hills: 789 Luxury Road\",\n",
    "    \"famous dish\": \"Our most famous dish is Chicken Biryani (₹250). Other popular items include:\\n- Mutton Biryani: ₹320\\n- Veg Biryani: ₹180\\n- Butter Chicken: ₹280\\n- Tandoori Platter: ₹350\",\n",
    "    \"menu\": \"Our menu includes:\\nBIRYANIS:\\n- Chicken Biryani: ₹250\\n- Mutton Biryani: ₹320\\n- Veg Biryani: ₹180\\n\\nMAIN COURSE:\\n- Butter Chicken: ₹280\\n- Chicken Tikka Masala: ₹260\\n- Paneer Butter Masala: ₹240\\n\\nBREADS:\\n- Naan: ₹40\\n- Butter Naan: ₹50\\n- Tandoori Roti: ₹30\",\n",
    "    \"contact\": \"You can call us at +91-9876543210 for reservations. For delivery, use our app or call +91-9876543211.\",\n",
    "    \"default\": \"I'm not sure I understand. You can ask me about our timings, locations, menu items, or contact information.\"\n",
    "}\n",
    "\n",
    "def get_response(user_query):\n",
    "    query = user_query.lower()\n",
    "    if \"time\" in query or \"timing\" in query or \"open\" in query or \"close\" in query:\n",
    "        return responses[\"timings\"]\n",
    "    elif \"location\" in query or \"where\" in query or \"address\" in query or \"hyderabad\" in query:\n",
    "        return responses[\"location\"]\n",
    "    elif \"dish\" in query or \"famous\" in query or \"special\" in query or \"recommend\" in query:\n",
    "        return responses[\"famous dish\"]\n",
    "    elif \"menu\" in query or \"item\" in query or \"price\" in query or \"cost\" in query:\n",
    "        return responses[\"menu\"]\n",
    "    elif \"contact\" in query or \"phone\" in query or \"call\" in query or \"number\" in query:\n",
    "        return responses[\"contact\"]\n",
    "    elif \"hello\" in query or \"hi\" in query or \"hey\" in query:\n",
    "        return \"Hello! How can I help you today?\"\n",
    "    elif \"thank\" in query:\n",
    "        return \"You're welcome! Is there anything else I can help with?\"\n",
    "    else:\n",
    "        return responses[\"default\"]\n",
    "\n",
    "@app.route(\"/chat\", methods=[\"POST\"])\n",
    "def chat():\n",
    "    data = request.get_json()\n",
    "    user_message = data.get(\"message\", \"\")\n",
    "    reply = get_response(user_message)\n",
    "    return jsonify({\"reply\": reply})\n",
    "\n",
    "if __name__ == \"__main__\":\n",
    "    app.run(port=5000, debug=True, use_reloader=False)"
   ]
  },
  {
   "cell_type": "code",
   "execution_count": null,
   "id": "8d60747f",
   "metadata": {},
   "outputs": [],
   "source": []
  }
 ],
 "metadata": {
  "kernelspec": {
   "display_name": "base",
   "language": "python",
   "name": "python3"
  },
  "language_info": {
   "codemirror_mode": {
    "name": "ipython",
    "version": 3
   },
   "file_extension": ".py",
   "mimetype": "text/x-python",
   "name": "python",
   "nbconvert_exporter": "python",
   "pygments_lexer": "ipython3",
   "version": "3.12.7"
  }
 },
 "nbformat": 4,
 "nbformat_minor": 5
}
